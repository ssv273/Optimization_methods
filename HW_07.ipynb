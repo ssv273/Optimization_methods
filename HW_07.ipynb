{
 "cells": [
  {
   "cell_type": "code",
   "execution_count": 1,
   "metadata": {},
   "outputs": [],
   "source": [
    "import numpy as np"
   ]
  },
  {
   "cell_type": "markdown",
   "metadata": {
    "colab_type": "text",
    "id": "lSZ-yOOvYzaZ"
   },
   "source": [
    "## Crossover\n",
    "\n",
    "Существуют различные методы определения пересечения в случае генетических алгоритмов, такие как одноточечный, двухточечный и k-точечный кроссовер, равномерный кроссовер и кроссовер для упорядоченных списков. Мы будем использовать единый кроссовер, где каждый параметр для ребенка (нового объекта популяции) будет независимо выбираться из родителей на основе определенного распределения."
   ]
  },
  {
   "cell_type": "markdown",
   "metadata": {},
   "source": [
    "В качестве дз реализуем кроссовер Ордена Дэвиса (OX1)"
   ]
  },
  {
   "cell_type": "markdown",
   "metadata": {},
   "source": [
    "Пусть у нас есть 2 родителя с набором из 15 генов"
   ]
  },
  {
   "cell_type": "code",
   "execution_count": 12,
   "metadata": {},
   "outputs": [
    {
     "data": {
      "text/plain": [
       "array([22, 11, 15, 22,  2, 39, 20,  9, 46, 20, 19, 30,  0,  9, 19])"
      ]
     },
     "execution_count": 12,
     "metadata": {},
     "output_type": "execute_result"
    }
   ],
   "source": [
    "parent_1 = np.random.randint(0, 50, 15)\n",
    "parent_1"
   ]
  },
  {
   "cell_type": "code",
   "execution_count": 15,
   "metadata": {},
   "outputs": [
    {
     "data": {
      "text/plain": [
       "15"
      ]
     },
     "execution_count": 15,
     "metadata": {},
     "output_type": "execute_result"
    }
   ],
   "source": [
    "parent_1.shape[0]"
   ]
  },
  {
   "cell_type": "code",
   "execution_count": 13,
   "metadata": {},
   "outputs": [
    {
     "data": {
      "text/plain": [
       "array([17, 39, 43, 16, 19, 24, 41, 11, 49,  7,  7,  9,  6, 40, 35])"
      ]
     },
     "execution_count": 13,
     "metadata": {},
     "output_type": "execute_result"
    }
   ],
   "source": [
    "parent_2 = np.random.randint(0, 50, 15)\n",
    "parent_2"
   ]
  },
  {
   "cell_type": "markdown",
   "metadata": {},
   "source": [
    "Случайным образом инициализируем окно, в котором оставим гены первого родителя"
   ]
  },
  {
   "cell_type": "code",
   "execution_count": 39,
   "metadata": {},
   "outputs": [
    {
     "data": {
      "text/plain": [
       "array([ 6, 12])"
      ]
     },
     "execution_count": 39,
     "metadata": {},
     "output_type": "execute_result"
    }
   ],
   "source": [
    "window = np.sort(np.random.randint(1, parent_1.shape[0], 2))\n",
    "window"
   ]
  },
  {
   "cell_type": "markdown",
   "metadata": {},
   "source": [
    "И в потомке оставим гены первого родителя в этом случайном окне"
   ]
  },
  {
   "cell_type": "code",
   "execution_count": 42,
   "metadata": {},
   "outputs": [],
   "source": [
    "child = np.zeros(parent_1.shape)"
   ]
  },
  {
   "cell_type": "code",
   "execution_count": 46,
   "metadata": {},
   "outputs": [],
   "source": [
    "child[window[0]:window[1]] = parent_1[window[0]:window[1]]"
   ]
  },
  {
   "cell_type": "code",
   "execution_count": 47,
   "metadata": {},
   "outputs": [
    {
     "data": {
      "text/plain": [
       "array([ 0.,  0.,  0.,  0.,  0.,  0., 20.,  9., 46., 20., 19., 30.,  0.,\n",
       "        0.,  0.])"
      ]
     },
     "execution_count": 47,
     "metadata": {},
     "output_type": "execute_result"
    }
   ],
   "source": [
    "child"
   ]
  },
  {
   "cell_type": "markdown",
   "metadata": {},
   "source": [
    "Теперь, удалим из второго родителя те значения, которые попали в это окно от первого"
   ]
  },
  {
   "cell_type": "code",
   "execution_count": 56,
   "metadata": {},
   "outputs": [
    {
     "data": {
      "text/plain": [
       "array([17, 39, 43, 16, 24, 41, 11, 49,  7,  6, 40, 35])"
      ]
     },
     "execution_count": 56,
     "metadata": {},
     "output_type": "execute_result"
    }
   ],
   "source": [
    "parent_2_tmp = np.setdiff1d(parent_2, child, assume_unique=True)\n",
    "parent_2_tmp"
   ]
  },
  {
   "cell_type": "markdown",
   "metadata": {},
   "source": [
    "и теперь заполним оставшиеся значения ребенка этими"
   ]
  },
  {
   "cell_type": "code",
   "execution_count": 61,
   "metadata": {},
   "outputs": [],
   "source": [
    "child[:window[0]] = parent_2_tmp[:window[0]]"
   ]
  },
  {
   "cell_type": "code",
   "execution_count": 62,
   "metadata": {},
   "outputs": [
    {
     "data": {
      "text/plain": [
       "array([17., 39., 43., 16., 24., 41., 20.,  9., 46., 20., 19., 30.,  0.,\n",
       "        0.,  0.])"
      ]
     },
     "execution_count": 62,
     "metadata": {},
     "output_type": "execute_result"
    }
   ],
   "source": [
    "child"
   ]
  },
  {
   "cell_type": "code",
   "execution_count": 71,
   "metadata": {},
   "outputs": [],
   "source": [
    "child[window[1]:] = parent_2_tmp[window[0] : window[0] + child[window[1]:].shape[0]]"
   ]
  },
  {
   "cell_type": "code",
   "execution_count": 74,
   "metadata": {},
   "outputs": [
    {
     "data": {
      "text/plain": [
       "array([17., 39., 43., 16., 24., 41., 20.,  9., 46., 20., 19., 30., 11.,\n",
       "       49.,  7.])"
      ]
     },
     "execution_count": 74,
     "metadata": {},
     "output_type": "execute_result"
    }
   ],
   "source": [
    "child"
   ]
  },
  {
   "cell_type": "markdown",
   "metadata": {},
   "source": [
    "то же самое надо повторить для второго ребенка, но взять окно от второго родителя"
   ]
  },
  {
   "cell_type": "markdown",
   "metadata": {},
   "source": [
    "напишем функцию"
   ]
  },
  {
   "cell_type": "code",
   "execution_count": 80,
   "metadata": {},
   "outputs": [],
   "source": [
    "def crossover_uniform(parents, children_size):\n",
    "    \"\"\"\n",
    "    \n",
    "    \"\"\"\n",
    "    children = np.empty(children_size)\n",
    "    \n",
    "    for i in range(children_size[0]):\n",
    "        if i != children_size[0]-1:\n",
    "            window = np.sort(np.random.randint(1, parents[i].shape[0], 2))\n",
    "            parent_1 = parents[i]\n",
    "            parent_2 = parents[i + 1]\n",
    "            child = np.zeros(parent_1.shape)\n",
    "            child[window[0]:window[1]] = parent_1[window[0]:window[1]]\n",
    "            parent_2_tmp = np.setdiff1d(parent_2, child, assume_unique=True)\n",
    "            child[:window[0]] = parent_2_tmp[:window[0]]\n",
    "            child[window[1]:] = parent_2_tmp[window[0] : window[0] + child[window[1]:].shape[0]]\n",
    "            children[i] = child\n",
    "        else:\n",
    "            window = np.sort(np.random.randint(1, parents[i].shape[0], 2))\n",
    "            parent_1 = parents[i]\n",
    "            parent_2 = parents[0]         # берем первого родителя и скрещиваем с последним\n",
    "            child = np.zeros(parent_1.shape)\n",
    "            child[window[0]:window[1]] = parent_1[window[0]:window[1]]\n",
    "            parent_2_tmp = np.setdiff1d(parent_2, child, assume_unique=True)\n",
    "            child[:window[0]] = parent_2_tmp[:window[0]]\n",
    "            child[window[1]:] = parent_2_tmp[window[0] : window[0] + child[window[1]:].shape[0]]\n",
    "            children[i] = child\n",
    "        \n",
    "        \n",
    "    return children"
   ]
  },
  {
   "cell_type": "markdown",
   "metadata": {},
   "source": [
    "Это конечно не сработает для примера из методички, так как тут перемешиваются признаки с разными ограничениями, но если на всех признаках одинаковые ограничения - то должно работать)"
   ]
  },
  {
   "cell_type": "markdown",
   "metadata": {},
   "source": [
    "алгоритм взят отсюда http://www.rubicite.com/Tutorials/GeneticAlgorithms/CrossoverOperators/Order1CrossoverOperator.aspx"
   ]
  }
 ],
 "metadata": {
  "kernelspec": {
   "display_name": "Python 3",
   "language": "python",
   "name": "python3"
  },
  "language_info": {
   "codemirror_mode": {
    "name": "ipython",
    "version": 3
   },
   "file_extension": ".py",
   "mimetype": "text/x-python",
   "name": "python",
   "nbconvert_exporter": "python",
   "pygments_lexer": "ipython3",
   "version": "3.8.2"
  }
 },
 "nbformat": 4,
 "nbformat_minor": 4
}
